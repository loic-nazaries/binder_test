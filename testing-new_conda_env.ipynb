{
 "cells": [
  {
   "cell_type": "markdown",
   "id": "bee059c8-6923-4b1e-9bd5-077600ffc785",
   "metadata": {},
   "source": [
    "!pip install pandas"
   ]
  },
  {
   "cell_type": "code",
   "execution_count": 1,
   "id": "fc6b0c7a-5f98-43ce-b5df-6beb48196e46",
   "metadata": {},
   "outputs": [],
   "source": [
    "import pandas as pd"
   ]
  },
  {
   "cell_type": "code",
   "execution_count": 10,
   "id": "2f3fea52-a5ba-4de0-96a1-ff327fca249c",
   "metadata": {},
   "outputs": [
    {
     "data": {
      "text/html": [
       "<div>\n",
       "<style scoped>\n",
       "    .dataframe tbody tr th:only-of-type {\n",
       "        vertical-align: middle;\n",
       "    }\n",
       "\n",
       "    .dataframe tbody tr th {\n",
       "        vertical-align: top;\n",
       "    }\n",
       "\n",
       "    .dataframe thead th {\n",
       "        text-align: right;\n",
       "    }\n",
       "</style>\n",
       "<table border=\"1\" class=\"dataframe\">\n",
       "  <thead>\n",
       "    <tr style=\"text-align: right;\">\n",
       "      <th></th>\n",
       "      <th>Apples</th>\n",
       "      <th>Bananas</th>\n",
       "      <th>Apricots</th>\n",
       "    </tr>\n",
       "  </thead>\n",
       "  <tbody>\n",
       "    <tr>\n",
       "      <th>stock</th>\n",
       "      <td>61</td>\n",
       "      <td>36</td>\n",
       "      <td>45</td>\n",
       "    </tr>\n",
       "    <tr>\n",
       "      <th>sold</th>\n",
       "      <td>43</td>\n",
       "      <td>2</td>\n",
       "      <td>0</td>\n",
       "    </tr>\n",
       "  </tbody>\n",
       "</table>\n",
       "</div>"
      ],
      "text/plain": [
       "       Apples  Bananas  Apricots\n",
       "stock      61       36        45\n",
       "sold       43        2         0"
      ]
     },
     "execution_count": 10,
     "metadata": {},
     "output_type": "execute_result"
    }
   ],
   "source": [
    "fruits = pd.DataFrame({'Apples': [61,43], 'Bananas': [36,2], \"Apricots\": [45,0]}, index=[\"stock\", 'sold'])\n",
    "fruits"
   ]
  },
  {
   "cell_type": "code",
   "execution_count": 11,
   "id": "2cb7bda6-2b16-40a4-8adc-b435cc02e9f9",
   "metadata": {},
   "outputs": [
    {
     "data": {
      "text/html": [
       "<div>\n",
       "<style scoped>\n",
       "    .dataframe tbody tr th:only-of-type {\n",
       "        vertical-align: middle;\n",
       "    }\n",
       "\n",
       "    .dataframe tbody tr th {\n",
       "        vertical-align: top;\n",
       "    }\n",
       "\n",
       "    .dataframe thead th {\n",
       "        text-align: right;\n",
       "    }\n",
       "</style>\n",
       "<table border=\"1\" class=\"dataframe\">\n",
       "  <thead>\n",
       "    <tr style=\"text-align: right;\">\n",
       "      <th></th>\n",
       "      <th>Apples</th>\n",
       "    </tr>\n",
       "  </thead>\n",
       "  <tbody>\n",
       "    <tr>\n",
       "      <th>stock</th>\n",
       "      <td>61</td>\n",
       "    </tr>\n",
       "    <tr>\n",
       "      <th>sold</th>\n",
       "      <td>43</td>\n",
       "    </tr>\n",
       "  </tbody>\n",
       "</table>\n",
       "</div>"
      ],
      "text/plain": [
       "       Apples\n",
       "stock      61\n",
       "sold       43"
      ]
     },
     "execution_count": 11,
     "metadata": {},
     "output_type": "execute_result"
    }
   ],
   "source": [
    "apple_stock = fruits.loc[:, [\"Apples\"]]\n",
    "apple_stock"
   ]
  },
  {
   "cell_type": "code",
   "execution_count": 12,
   "id": "fbd89b0c-5058-467b-9146-cf55baeb5dfe",
   "metadata": {},
   "outputs": [
    {
     "data": {
      "text/plain": [
       "'stock'"
      ]
     },
     "execution_count": 12,
     "metadata": {},
     "output_type": "execute_result"
    }
   ],
   "source": [
    "apple_stock.index[0]"
   ]
  },
  {
   "cell_type": "code",
   "execution_count": 13,
   "id": "d5f01c1e-16f2-4598-927e-fb7b1aa2a768",
   "metadata": {},
   "outputs": [
    {
     "data": {
      "text/plain": [
       "Apples     61\n",
       "Bananas    36\n",
       "Name: stock, dtype: int64"
      ]
     },
     "execution_count": 13,
     "metadata": {},
     "output_type": "execute_result"
    }
   ],
   "source": [
    "fruits.loc[\"stock\", [\"Apples\", \"Bananas\"]]"
   ]
  },
  {
   "cell_type": "code",
   "execution_count": 44,
   "id": "07522d17-f917-4377-853d-6fca750dcfbb",
   "metadata": {},
   "outputs": [
    {
     "name": "stdout",
     "output_type": "stream",
     "text": [
      "The following fruits must be ordered:\n",
      "Apples      43\n",
      "Bananas      2\n",
      "Apricots     0\n",
      "Name: Fruit Order, dtype: int64\n"
     ]
    }
   ],
   "source": [
    "def order_fruits():\n",
    "    stock = fruits.loc[\"stock\"]\n",
    "    sold = fruits.loc[\"sold\", [\"Apples\", \"Bananas\", \"Apricots\"]]\n",
    "    order = stock - (stock - sold)\n",
    "    order = pd.Series(order, name=\"Fruit Order\")\n",
    "    print(f\"The following fruits must be ordered:\\n{order}\")\n",
    "    return\n",
    "\n",
    "order_fruits()"
   ]
  },
  {
   "cell_type": "code",
   "execution_count": null,
   "id": "8963f740-58ef-46ad-8dd4-37e75629d18a",
   "metadata": {},
   "outputs": [],
   "source": []
  }
 ],
 "metadata": {
  "kernelspec": {
   "display_name": "Python 3",
   "language": "python",
   "name": "python3"
  },
  "language_info": {
   "codemirror_mode": {
    "name": "ipython",
    "version": 3
   },
   "file_extension": ".py",
   "mimetype": "text/x-python",
   "name": "python",
   "nbconvert_exporter": "python",
   "pygments_lexer": "ipython3",
   "version": "3.8.11"
  }
 },
 "nbformat": 4,
 "nbformat_minor": 5
}
